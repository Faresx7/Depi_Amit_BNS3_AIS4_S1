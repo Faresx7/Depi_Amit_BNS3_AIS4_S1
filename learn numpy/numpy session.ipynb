{
 "cells": [
  {
   "cell_type": "markdown",
   "id": "bc105ec7",
   "metadata": {},
   "source": [
    "Numpy"
   ]
  },
  {
   "cell_type": "code",
   "execution_count": 1,
   "id": "4839e108",
   "metadata": {},
   "outputs": [],
   "source": [
    "import numpy as np"
   ]
  },
  {
   "cell_type": "code",
   "execution_count": null,
   "id": "769a8150",
   "metadata": {},
   "outputs": [
    {
     "name": "stdout",
     "output_type": "stream",
     "text": [
      "5\n",
      "6\n"
     ]
    }
   ],
   "source": [
    "s=np.array(5)\n",
    "print(s)\n",
    "v=np.array([[1,2,3],\n",
    "            [4,5,6],\n",
    "            [7,8,9]])\n",
    "\n",
    "#this means from row : to row\n",
    "print(v[1:3])\n",
    "#this means the row,item index\n",
    "print(v[1,2])"
   ]
  },
  {
   "cell_type": "code",
   "execution_count": 44,
   "id": "5431ebfb",
   "metadata": {},
   "outputs": [
    {
     "name": "stdout",
     "output_type": "stream",
     "text": [
      "(6,)\n",
      "------------\n",
      "6\n",
      "------------\n",
      "[[1]\n",
      " [2]\n",
      " [3]\n",
      " [4]\n",
      " [5]\n",
      " [6]]\n",
      "------------\n",
      "[[1 2]\n",
      " [3 4]\n",
      " [5 6]]\n",
      "------------\n",
      "[[1]\n",
      " [2]\n",
      " [3]\n",
      " [4]\n",
      " [5]\n",
      " [6]]\n"
     ]
    }
   ],
   "source": [
    "v_2=np.array([1,2,3,4,5,6])\n",
    "print(v_2.shape)\n",
    "print('-'*12)\n",
    "print(v_2.shape[0])\n",
    "print('-'*12)\n",
    "                   #row        column\n",
    "print(v_2.reshape((v_2.shape[0],1)))\n",
    "print('-'*12)\n",
    "#automatically adjusted the column dimension when i wrote -1\n",
    "print(v_2.reshape((3,-1)))\n",
    "\n",
    "print('-'*12)\n",
    "print(v_2[:,None])\n"
   ]
  },
  {
   "cell_type": "markdown",
   "id": "ddf45833",
   "metadata": {},
   "source": [
    "Identity function"
   ]
  },
  {
   "cell_type": "code",
   "execution_count": null,
   "id": "0b73fbca",
   "metadata": {},
   "outputs": [
    {
     "name": "stdout",
     "output_type": "stream",
     "text": [
      "[[1 0 0 0]\n",
      " [0 1 0 0]\n",
      " [0 0 1 0]\n",
      " [0 0 0 1]]\n"
     ]
    },
    {
     "data": {
      "text/plain": [
       "dtype('int64')"
      ]
     },
     "execution_count": 50,
     "metadata": {},
     "output_type": "execute_result"
    }
   ],
   "source": [
    "#make a square matrix and give it datatype\n",
    "mat=np.identity(4,dtype=int)\n",
    "print(mat)\n",
    "mat.dtype"
   ]
  },
  {
   "cell_type": "markdown",
   "id": "fc9e3770",
   "metadata": {},
   "source": [
    "Make a matrix have on item"
   ]
  },
  {
   "cell_type": "code",
   "execution_count": 53,
   "id": "b024a92d",
   "metadata": {},
   "outputs": [
    {
     "data": {
      "text/plain": [
       "array([[6, 6, 6, 6, 6],\n",
       "       [6, 6, 6, 6, 6],\n",
       "       [6, 6, 6, 6, 6],\n",
       "       [6, 6, 6, 6, 6],\n",
       "       [6, 6, 6, 6, 6]])"
      ]
     },
     "execution_count": 53,
     "metadata": {},
     "output_type": "execute_result"
    }
   ],
   "source": [
    "full_mat=np.full((5,5),6)\n",
    "full_mat"
   ]
  },
  {
   "cell_type": "markdown",
   "id": "046e2e9a",
   "metadata": {},
   "source": [
    "arange()"
   ]
  },
  {
   "cell_type": "code",
   "execution_count": 61,
   "id": "21e50316",
   "metadata": {},
   "outputs": [
    {
     "name": "stdout",
     "output_type": "stream",
     "text": [
      "[ 0  2  4  6  8 10 12 14 16 18 20 22 24 26 28 30 32 34 36 38 40 42 44 46\n",
      " 48]\n",
      "[[ 0  2  4  6  8]\n",
      " [10 12 14 16 18]\n",
      " [20 22 24 26 28]\n",
      " [30 32 34 36 38]\n",
      " [40 42 44 46 48]]\n"
     ]
    }
   ],
   "source": [
    "              #start stop step\n",
    "range_mat=np.arange(0,50,2)\n",
    "print(range_mat)\n",
    "print(range_mat.reshape((5,-1)))"
   ]
  },
  {
   "cell_type": "markdown",
   "id": "16d76aae",
   "metadata": {},
   "source": [
    "Random"
   ]
  },
  {
   "cell_type": "code",
   "execution_count": 70,
   "id": "1aafc10b",
   "metadata": {},
   "outputs": [
    {
     "name": "stdout",
     "output_type": "stream",
     "text": [
      "[[0.52286069 0.08306303 0.06970442]\n",
      " [0.32454154 0.17898528 0.71110227]\n",
      " [0.78271851 0.89115786 0.56833241]]\n",
      "------------\n",
      "[19 10 34]\n",
      "------------\n",
      "40\n"
     ]
    }
   ],
   "source": [
    "print(np.random.random((3,3)))\n",
    "print('-'*12)\n",
    "print(np.random.randint(1,50,3))\n",
    "print('-'*12)\n",
    "print(np.random.choice(range_mat))"
   ]
  },
  {
   "cell_type": "code",
   "execution_count": null,
   "id": "7f2d0d48",
   "metadata": {},
   "outputs": [],
   "source": []
  }
 ],
 "metadata": {
  "kernelspec": {
   "display_name": "Python 3",
   "language": "python",
   "name": "python3"
  },
  "language_info": {
   "codemirror_mode": {
    "name": "ipython",
    "version": 3
   },
   "file_extension": ".py",
   "mimetype": "text/x-python",
   "name": "python",
   "nbconvert_exporter": "python",
   "pygments_lexer": "ipython3",
   "version": "3.13.5"
  }
 },
 "nbformat": 4,
 "nbformat_minor": 5
}
