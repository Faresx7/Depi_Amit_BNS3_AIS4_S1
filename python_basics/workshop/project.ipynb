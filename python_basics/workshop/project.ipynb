{
 "cells": [
  {
   "cell_type": "code",
   "execution_count": null,
   "id": "3e32c431",
   "metadata": {},
   "outputs": [],
   "source": [
    "class student:\n",
    "    _id_counter=1\n",
    "    def __init__(self,name):\n",
    "        self.name=name\n",
    "        self.student_id=student._id_counter\n",
    "        student._id_counter+=1\n",
    "        self.grade={}#courses grades\n",
    "        self.enrolled_courses=[]\n",
    "   \n",
    "    #! this all returns the string values into our object\n",
    "    def __str__(self):\n",
    "        return f\"student id: {self.student_id}, name: {self.name}, grades: {self.grade}, courses {self.enrolled_courses}\"\n",
    "    \n",
    "    def __reper(self):\n",
    "        return f\"student id: {self.student_id}, name: {self.name}, grades: {self.grade}, courses {self.enrolled_courses} {len(self.enrolled_courses)}\"\n",
    "        \n",
    "    def add_grade(self,course_id,grade):\n",
    "        self.grade[course_id]=grade\n",
    "    def enrolled(self,course):\n",
    "        self.enrolled_courses.append(course)\n"
   ]
  },
  {
   "cell_type": "code",
   "execution_count": null,
   "id": "7cd8ba2b",
   "metadata": {},
   "outputs": [],
   "source": [
    "\n",
    "s1=student('fares')\n",
    "s1.add_grade(2,100)\n",
    "s1.enrolled(\"DS\")\n",
    "s1.__str__()"
   ]
  },
  {
   "cell_type": "code",
   "execution_count": 1,
   "id": "e4c465a7",
   "metadata": {},
   "outputs": [],
   "source": [
    "class course:\n",
    "    _id_counter=1\n",
    "    def __init__(self,name):\n",
    "        self.course_id=course._id_counter\n",
    "        course._id_counter+=1\n",
    "        self.name=name\n",
    "        self.enrolled_students=[]\n",
    "    def __str__(self):\n",
    "        return f\"course id {self.course_id} , name {self.name} , enrolled {len(self.enrolled_students)} \"\n",
    "    def enroll_student(self, student) :\n",
    "        if student not in self.enrolled_students:\n",
    "            self.enrolled_students.append(student)\n",
    "    \n",
    "    def remove_student(self, student) :\n",
    "        if student in self.enrolled_students:\n",
    "            self.enrolled_students.remove(student)"
   ]
  },
  {
   "cell_type": "code",
   "execution_count": null,
   "id": "e1ec6553",
   "metadata": {},
   "outputs": [
    {
     "data": {
      "text/plain": [
       "'course id 1 , name fares , enrolled 1 '"
      ]
     },
     "execution_count": 2,
     "metadata": {},
     "output_type": "execute_result"
    }
   ],
   "source": [
    "ds=course(\"fares\")\n",
    "ds.enroll_student(\"FARES\")\n",
    "ds.remove_student(\"fares\")\n",
    "ds.__str__()\n"
   ]
  },
  {
   "cell_type": "code",
   "execution_count": null,
   "id": "1c552198",
   "metadata": {},
   "outputs": [],
   "source": [
    "class Systenmanager:\n",
    "\n",
    "    def init (self) :\n",
    "        self.students={} \n",
    "        self.courses={}\n",
    "\n",
    "    def add_student(self, name):\n",
    "        st = student(name)\n",
    "        self. students [ st.student_id] = student\n",
    "        print( \"Student added successfully\")\n",
    "        return st.student_id\n",
    "    \n",
    "    def remove_student(self,student_id):\n",
    "        if student_id in self.students:\n",
    "            student=self.students[student_id]\n",
    "            if not student.enrolled_courses:\n",
    "                del self.students[student_id]"
   ]
  },
  {
   "cell_type": "code",
   "execution_count": null,
   "id": "a75a4bbf",
   "metadata": {},
   "outputs": [],
   "source": []
  },
  {
   "cell_type": "code",
   "execution_count": null,
   "id": "e832d7ad",
   "metadata": {},
   "outputs": [],
   "source": []
  }
 ],
 "metadata": {
  "kernelspec": {
   "display_name": ".env",
   "language": "python",
   "name": "python3"
  },
  "language_info": {
   "codemirror_mode": {
    "name": "ipython",
    "version": 3
   },
   "file_extension": ".py",
   "mimetype": "text/x-python",
   "name": "python",
   "nbconvert_exporter": "python",
   "pygments_lexer": "ipython3",
   "version": "3.13.5"
  }
 },
 "nbformat": 4,
 "nbformat_minor": 5
}
