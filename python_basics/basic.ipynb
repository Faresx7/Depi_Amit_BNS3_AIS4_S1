{
 "cells": [
  {
   "cell_type": "code",
   "execution_count": null,
   "id": "06b6b10b",
   "metadata": {},
   "outputs": [
    {
     "name": "stdout",
     "output_type": "stream",
     "text": [
      "11264\n"
     ]
    }
   ],
   "source": [
    "y=12\n",
    "y\n",
    "x=500\n",
    "sum=x+y\n",
    "sum\n",
    "print(sum*22)\n",
    "print(\"The sum of x and y multiplied by 22 is:\", sum * 22)"
   ]
  },
  {
   "cell_type": "code",
   "execution_count": null,
   "id": "512b03e5",
   "metadata": {},
   "outputs": [],
   "source": []
  }
 ],
 "metadata": {
  "kernelspec": {
   "display_name": ".env",
   "language": "python",
   "name": "python3"
  },
  "language_info": {
   "codemirror_mode": {
    "name": "ipython",
    "version": 3
   },
   "file_extension": ".py",
   "mimetype": "text/x-python",
   "name": "python",
   "nbconvert_exporter": "python",
   "pygments_lexer": "ipython3",
   "version": "3.13.5"
  }
 },
 "nbformat": 4,
 "nbformat_minor": 5
}
