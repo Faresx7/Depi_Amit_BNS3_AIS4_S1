{
 "cells": [
  {
   "cell_type": "code",
   "execution_count": null,
   "id": "2dc8b272",
   "metadata": {},
   "outputs": [],
   "source": [
    "from bs4 import BeautifulSoup\n",
    "with open(\"home.html\",'r') as html_file:\n",
    "    content=html_file.read()\n",
    "    #!this takes every thing in the file and make it ready for me to analyze\n",
    "    soup = BeautifulSoup(content, 'lxml')\n",
    "    #! in here i'am storing every \"h5\" in the html file\n",
    "    courses_main_title=soup.find_all('h5')\n",
    "    #* here i print all \"h5\" in the file\n",
    "    for c in courses_main_title:\n",
    "        print(c)"
   ]
  },
  {
   "cell_type": "markdown",
   "id": "b6c4fdc2",
   "metadata": {},
   "source": [
    "HTML better reading"
   ]
  },
  {
   "cell_type": "code",
   "execution_count": null,
   "id": "18f6ccc4",
   "metadata": {},
   "outputs": [],
   "source": [
    "from bs4 import BeautifulSoup\n",
    "with open(\"home.html\",'r') as html_file:\n",
    "    content=html_file.read()\n",
    "    #!this takes every thing in the file and make it ready for me to analyze\n",
    "    soup = BeautifulSoup(content, 'lxml')\n",
    "    #! in here i'am storing every \"h5\" in the html file\n",
    "    courses_main_title=soup.find_all('h5')\n",
    "    #* here i print all \"h5\" in the file\n",
    "    for c in courses_main_title:\n",
    "        #! here it print the text in 'h5's only not all the structure\n",
    "        print(c.text)"
   ]
  },
  {
   "cell_type": "markdown",
   "id": "af9237e8",
   "metadata": {},
   "source": [
    "Extract any thing from class"
   ]
  },
  {
   "cell_type": "code",
   "execution_count": 28,
   "id": "7696bc8f",
   "metadata": {},
   "outputs": [
    {
     "name": "stdout",
     "output_type": "stream",
     "text": [
      "Python for Beginners Win $20\n",
      "Python Web Development Win $30\n",
      "Python Machine Learning Win $100\n"
     ]
    }
   ],
   "source": [
    "from bs4 import BeautifulSoup\n",
    "with open(\"home.html\",'r') as html_file:\n",
    "    content=html_file.read()\n",
    "    #!this takes every thing in the file and make it ready for me to analyze\n",
    "    soup = BeautifulSoup(content, 'lxml')\n",
    "    #! here we search for 'div's in the html\n",
    "    #* then we specify specific class we need to search only in like we search only in every card\n",
    "    courses_main_title=soup.find_all('div',class_ ='card')\n",
    "    #* here i print all \"h5\" in the file\n",
    "    for c in courses_main_title:\n",
    "        ''' here we search for the name and the price\n",
    "          after we know their place in the code from the inspect feature or from the HTML code itself'''\n",
    "        coursename=c.h5\n",
    "        courseprice=c.a\n",
    "        print(coursename.text,courseprice.text)"
   ]
  },
  {
   "cell_type": "code",
   "execution_count": null,
   "id": "d8b0eae2",
   "metadata": {},
   "outputs": [],
   "source": []
  }
 ],
 "metadata": {
  "kernelspec": {
   "display_name": ".env",
   "language": "python",
   "name": "python3"
  },
  "language_info": {
   "codemirror_mode": {
    "name": "ipython",
    "version": 3
   },
   "file_extension": ".py",
   "mimetype": "text/x-python",
   "name": "python",
   "nbconvert_exporter": "python",
   "pygments_lexer": "ipython3",
   "version": "3.13.5"
  }
 },
 "nbformat": 4,
 "nbformat_minor": 5
}
