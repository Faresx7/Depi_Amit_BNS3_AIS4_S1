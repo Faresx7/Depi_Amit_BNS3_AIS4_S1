{
 "cells": [
  {
   "cell_type": "markdown",
   "id": "6f1050c3",
   "metadata": {},
   "source": [
    "task 1 : email validation"
   ]
  },
  {
   "cell_type": "code",
   "execution_count": 11,
   "id": "7020490d",
   "metadata": {},
   "outputs": [
    {
     "name": "stdout",
     "output_type": "stream",
     "text": [
      "Valid email address\n",
      "Name: faresesaam\n",
      "Domain: gmail\n",
      "commercial domain\n"
     ]
    }
   ],
   "source": [
    "email=\"faresesaam@gmail.com\"\n",
    "#to tell the count and index for @ and . \n",
    "eac=email.count(\"@\")\n",
    "edc=email.count(\".\")\n",
    "eaf=email.find(\"@\")\n",
    "edf=email.find(\".\")\n",
    "name=\"\"\n",
    "domain=\"\"\n",
    "ending=\"\"\n",
    "# email dot count after @\n",
    "edcaa=email[eaf+1:].count(\".\")\n",
    "#for checking that the . comes after @ and there is only one @ and one . after @\n",
    "if eac ==1 and edc>=1 and edf > eaf and edcaa==1:\n",
    "    print(\"Valid email address\")\n",
    "    for i in email:\n",
    "        if i==\"@\":\n",
    "            break\n",
    "        name+=i\n",
    "    print(\"Name:\", name)\n",
    "    for i in email[eaf+1:edf]:\n",
    "        domain+=i\n",
    "    print(\"Domain:\", domain)\n",
    "    for i in email[edf+1:]:\n",
    "        ending+=i\n",
    "    if ending ==\"com\":\n",
    "        print(\"commercial domain\")\n",
    "            \n",
    "    elif ending ==\"edu\":\n",
    "        print(\"educational domain\")\n",
    "    else: \n",
    "        print(\"other domain\")\n",
    "else:\n",
    "    print(\"Invalid email address\")\n",
    "\n",
    "\n"
   ]
  },
  {
   "cell_type": "markdown",
   "id": "3493b7be",
   "metadata": {},
   "source": [
    "task 2 : "
   ]
  }
 ],
 "metadata": {
  "kernelspec": {
   "display_name": ".env",
   "language": "python",
   "name": "python3"
  },
  "language_info": {
   "codemirror_mode": {
    "name": "ipython",
    "version": 3
   },
   "file_extension": ".py",
   "mimetype": "text/x-python",
   "name": "python",
   "nbconvert_exporter": "python",
   "pygments_lexer": "ipython3",
   "version": "3.13.5"
  }
 },
 "nbformat": 4,
 "nbformat_minor": 5
}
