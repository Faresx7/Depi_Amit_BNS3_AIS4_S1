{
 "cells": [
  {
   "cell_type": "markdown",
   "id": "0df1de02",
   "metadata": {},
   "source": [
    "### The outliers code \n",
    "this code ensure the data don't have a very big or very small values in my \n",
    "Dataset to avoid some problems will happen if there is outliers"
   ]
  },
  {
   "cell_type": "code",
   "execution_count": null,
   "id": "33aacd82",
   "metadata": {},
   "outputs": [],
   "source": [
    "for col in num_cols:\n",
    "    Q1 = df[col].quantile(0.25)\n",
    "    Q3 = df[col].quantile(0.75)\n",
    "    IQR = Q3 - Q1\n",
    "    lower_bound = Q1 - 1.5 * IQR\n",
    "    upper_bound = Q3 + 1.5 * IQR\n",
    "    lower_outliers = df[df[col] < lower_bound][col].values\n",
    "    upper_outliers = df[df[col] > upper_bound][col].values\n",
    "    df[col].replace(lower_outliers, lower_bound, inplace=True)\n",
    "    df[col].replace(upper_outliers, upper_bound, inplace=True)\n",
    "\n",
    "\n",
    "plt.figure(figsize=(8, 1))\n",
    "for idx, col in enumerate(num_cols):\n",
    "    plt.subplot(1, len(num_cols), idx + 1)\n",
    "    sns.boxplot(df[col], orient='h')\n",
    "    plt.title(f\"{col} boxplot\")"
   ]
  }
 ],
 "metadata": {
  "language_info": {
   "name": "python"
  }
 },
 "nbformat": 4,
 "nbformat_minor": 5
}
